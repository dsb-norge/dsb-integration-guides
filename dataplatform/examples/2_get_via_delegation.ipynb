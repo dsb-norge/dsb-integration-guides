{
 "cells": [
  {
   "cell_type": "markdown",
   "id": "8c3e2712",
   "metadata": {},
   "source": [
    "# Introduction\n",
    "This example code requires that you have followed all the steps in the [README](../README.md) and also have worked through [Example 1](./1_get_data.ipynb).\n",
    "\n",
    "In this example we will explore retrieving data on behalf of a another company.\n",
    "<br>This works by utilizing [Altinn Delegation](https://docs.digdir.no/docs/Maskinporten/maskinporten_func_delegering.html)\n",
    "\n",
    "Use cases for this could be that you are a service provider that needs to retrieve data on behalf of your customers, or that you are a company that needs to retrieve data on behalf of another company."
   ]
  },
  {
   "cell_type": "markdown",
   "id": "9d0be621",
   "metadata": {},
   "source": [
    "## Define variables\n",
    "In the code below you will have to define the variables that will be used in the code blocks below."
   ]
  },
  {
   "cell_type": "code",
   "execution_count": null,
   "id": "1178dfc0",
   "metadata": {},
   "outputs": [],
   "source": [
    "# --------------------------------------------------\n",
    "# Maskinporten\n",
    "# --------------------------------------------------\n",
    "maskinporten_private_key_file_path = \"./private_key.pem\" # Path to the private key pem file\n",
    "maskinporten_client_key_id = \"bf253e40-5d6a-49bd-88ff-f6c0625eff8c\" # The ID of the key the private key corresponds to\n",
    "maskinporten_client_id = \"eac8848f-a662-46b5-bff4-0447db28bb7e\" # The ID of the client you created for Maskinporten in Selvbetjeningsportalen\n",
    "maskinporten_audience=\"https://test.sky.maskinporten.no\"\n",
    "maskinporten_scope = \"dsb:data/dlesupervision.read\"  # The scope you received from DSB\n",
    "maskinporten_resource = \"https://data.dsb.no\" # The resource identifier / audience you received from DSB\n",
    "\n",
    "# --------------------------------------------------\n",
    "# Delta Sharing\n",
    "# --------------------------------------------------\n",
    "delta_sharing_endpoint = \"https://norwayeast.azuredatabricks.net/api/2.0/delta-sharing/metastores/6d2d21f2-bfea-44bb-bb60-4eefa6be569b/recipients/a1ed2789-9e81-4673-b753-6974f957aa76\" # The delta sharing endpoint you received from DSB"
   ]
  },
  {
   "cell_type": "markdown",
   "id": "3fd82c48",
   "metadata": {},
   "source": [
    "## Acquire an access token from Skyporten / Maskinporten\n",
    "In the code below we will request an access token from Skyporten / Maskinporten.\n",
    "\n",
    "The access token is stored in the `access_token` variable and is used in the subsequent code blocks in this file.\n",
    "\n",
    "The access token is also written to the output of the code cell so you can see it in both JSON and bearer/base64 format."
   ]
  },
  {
   "cell_type": "code",
   "execution_count": null,
   "id": "adfc797c",
   "metadata": {},
   "outputs": [],
   "source": [
    "# Import the a helper function in the lib folder to get an access token from Maskinporten\n",
    "from lib.maskinporten import get_maskinporten_access_token\n",
    "\n",
    "# This code is for reloading the module above to make sure changes are up-to-date if running this script multiple times\n",
    "import lib.maskinporten\n",
    "import importlib\n",
    "importlib.reload(lib.maskinporten)\n",
    "\n",
    "# Read the private key from a file\n",
    "private_key = open(maskinporten_private_key_file_path, \"rb\").read()\n",
    "\n",
    "# Request an access token from Maskinporten\n",
    "access_token = get_maskinporten_access_token(\n",
    "    key_id=maskinporten_client_key_id,\n",
    "    client_id=maskinporten_client_id,\n",
    "    audience=maskinporten_audience,\n",
    "    scope=maskinporten_scope,\n",
    "    resource=maskinporten_resource,\n",
    "    private_key=private_key,\n",
    ")\n",
    "\n",
    "# Decode and print the access token\n",
    "import jwt\n",
    "decoded = jwt.decode(\n",
    "    access_token,\n",
    "    options={\"verify_signature\": False},\n",
    "    algorithms=[\"RS256\"],\n",
    ")\n",
    "\n",
    "print(\"Decoded access token:\")\n",
    "import json\n",
    "print(json.dumps(decoded, indent=2))\n",
    "\n",
    "print(\"Access token in base64 format:\")\n",
    "print(f\"{access_token}\")\n",
    "\n",
    "print()\n",
    "print(f\"The sub-value '{decoded['sub']}' is what you need to send to DSB\")"
   ]
  },
  {
   "cell_type": "markdown",
   "id": "7a269838",
   "metadata": {},
   "source": [
    "## Delta sharing\n",
    "The code below will use the `access_token` variable from the previous code block to create a delta sharing profile JSON file.\n",
    "\n",
    "This profile.json-file will be used by the Delta Sharing client to access the data on the Delta Sharing server/endpoint."
   ]
  },
  {
   "cell_type": "code",
   "execution_count": null,
   "id": "68ecd930",
   "metadata": {},
   "outputs": [],
   "source": [
    "# Import helper functions for Delta Sharing\n",
    "from lib.deltasharing import create_sharing_profile, get_table_urls\n",
    "# Reload the module if running this script multiple times\n",
    "import importlib\n",
    "import lib.deltasharing\n",
    "importlib.reload(lib.deltasharing)\n",
    "\n",
    "# Create the Delta Sharing profile JSON file\n",
    "profile = create_sharing_profile(\n",
    "    profile_name=\"dsb_maskinporten_profile\",\n",
    "    bearer_token=access_token,\n",
    "    endpoint=delta_sharing_endpoint\n",
    ")"
   ]
  },
  {
   "cell_type": "code",
   "execution_count": null,
   "id": "27e1db8c",
   "metadata": {},
   "outputs": [],
   "source": [
    "# --------------------------------------------------\n",
    "# Testing access\n",
    "# Using the created profile we will connect to the Delta Sharing server and list all available tables\n",
    "# --------------------------------------------------\n",
    "from delta_sharing import SharingClient\n",
    "client = SharingClient(profile)\n",
    "\n",
    "# List all tables using the Delta Sharing client\n",
    "print(client.list_all_tables())\n",
    "\n",
    "# List all tables using the get_table_urls helper function\n",
    "table_urls = sorted(get_table_urls(profile, client))\n",
    "print(\"\\n\".join(table_urls))\n"
   ]
  },
  {
   "cell_type": "markdown",
   "id": "6772477e",
   "metadata": {},
   "source": [
    "### Pandas\n",
    "Useful when working on smaller datasets as it does not require to create an external spark cluster to work the data.<br>\n",
    "Pandas also integrates well with the [Data Wrangler](vscode:extension/ms-toolsai.datawrangler) Visual Studio Code extension"
   ]
  },
  {
   "cell_type": "code",
   "execution_count": null,
   "id": "34b4f21f",
   "metadata": {},
   "outputs": [],
   "source": [
    "#\n",
    "# Consume with Pandas\n",
    "#\n",
    "from delta_sharing import load_as_pandas\n",
    "\n",
    "# Load a specific table as a Pandas DataFrame\n",
    "pandas_df = load_as_pandas(url=table_urls[-1])\n",
    "\n",
    "# Show first 5 rows\n",
    "print(pandas_df.head(n = 5))\n",
    "\n",
    "# Show summary statistics of the DataFrame\n",
    "pandas_df.describe()"
   ]
  },
  {
   "cell_type": "code",
   "execution_count": null,
   "id": "7648fb13",
   "metadata": {},
   "outputs": [],
   "source": [
    "from lib.deltasharing import pandas_dump_tables\n",
    "\n",
    "pandas_dump_tables(\n",
    "    table_urls=table_urls,\n",
    "    data_folder=\"./data\"\n",
    ")"
   ]
  },
  {
   "cell_type": "markdown",
   "id": "48319167",
   "metadata": {},
   "source": [
    "## Spark\n",
    "Should be used when working on large datasets as it sends the jobs to a local spark cluster that optimizes the jobs\n",
    "\n",
    "<span style=\"color:orange\">Warning ⚠</span> The spark setup code below can only run once per jupyter session"
   ]
  },
  {
   "cell_type": "code",
   "execution_count": null,
   "id": "d9c8c43e",
   "metadata": {},
   "outputs": [],
   "source": [
    "\n",
    "from pyspark.sql import SparkSession\n",
    "from pyspark import SparkConf \n",
    "from delta_sharing import load_as_spark\n",
    "\n",
    "if 'spark' in globals() or 'spark' in locals():\n",
    "    print(\"Spark session already exists, reusing it.\")\n",
    "    \n",
    "else:\n",
    "    spark_conf = (\n",
    "        SparkConf()\n",
    "        .set(\"spark.jars.packages\", \"io.delta:delta-sharing-spark_2.12:3.3.1\") # org.apache.hadoop:hadoop-azure:3.3.1\n",
    "        .set(\"spark.sql.extensions\", \"io.delta.sql.DeltaSparkSessionExtension\")\n",
    "        .set(\"spark.sql.catalog.spark_catalog\", \"org.apache.spark.sql.delta.catalog.DeltaCatalog\")\n",
    "    )\n",
    "\n",
    "    spark = (\n",
    "        SparkSession.Builder()\n",
    "        .master(\"local[*]\")  # Use all available cores\n",
    "        .config(conf=spark_conf)\n",
    "        .getOrCreate()\n",
    "    )"
   ]
  },
  {
   "cell_type": "code",
   "execution_count": null,
   "id": "b5969dbf",
   "metadata": {},
   "outputs": [],
   "source": [
    "spark_df = load_as_spark(f\"{profile}#keb_test.gold.age_stats_tbl\")\n",
    "\n",
    "spark_df.show()\n",
    "\n",
    "spark_df.printSchema()\n",
    "\n",
    "spark_df.summary().show()"
   ]
  }
 ],
 "metadata": {
  "kernelspec": {
   "display_name": "databricks",
   "language": "python",
   "name": "python3"
  },
  "language_info": {
   "codemirror_mode": {
    "name": "ipython",
    "version": 3
   },
   "file_extension": ".py",
   "mimetype": "text/x-python",
   "name": "python",
   "nbconvert_exporter": "python",
   "pygments_lexer": "ipython3",
   "version": "3.12.9"
  }
 },
 "nbformat": 4,
 "nbformat_minor": 5
}
