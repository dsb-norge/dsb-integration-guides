{
 "cells": [
  {
   "cell_type": "markdown",
   "id": "8c3e2712",
   "metadata": {},
   "source": [
    "# Introduction\n",
    "This example code requires that you have followed all the steps in the [README](../README.md)\n",
    "\n",
    "If you are opening this file in a code editor that supports Jupyter notebooks you can run each cell one by one and see the results."
   ]
  },
  {
   "cell_type": "markdown",
   "id": "9d0be621",
   "metadata": {},
   "source": [
    "## Define variables\n",
    "In the code below you will have to define the variables that will be used in the code blocks below."
   ]
  },
  {
   "cell_type": "code",
   "execution_count": null,
   "id": "1178dfc0",
   "metadata": {},
   "outputs": [],
   "source": [
    "# --------------------------------------------------\n",
    "# Maskinporten\n",
    "# --------------------------------------------------\n",
    "maskinporten_private_key_file_path = \"./private_key.pem\" # Path to the private key pem file\n",
    "maskinporten_client_key_id = \"bf253e40-5d6a-49bd-88ff-f6c0625eff8c\" # The ID of the key the private key corresponds to\n",
    "maskinporten_client_id = \"eac8848f-a662-46b5-bff4-0447db28bb7e\" # The ID of the client you created for Maskinporten in Selvbetjeningsportalen\n",
    "maskinporten_audience=\"https://test.sky.maskinporten.no\"\n",
    "maskinporten_scope = \"dsb:data/dlesupervision.read\"  # The scope you received from DSB\n",
    "maskinporten_resource = \"https://data.dsb.no\" # The resource identifier / audience you received from DSB\n",
    "\n",
    "# --------------------------------------------------\n",
    "# Delta Sharing\n",
    "# --------------------------------------------------\n",
    "delta_sharing_endpoint = \"https://norwayeast.azuredatabricks.net/api/2.0/delta-sharing/metastores/6d2d21f2-bfea-44bb-bb60-4eefa6be569b/recipients/a1ed2789-9e81-4673-b753-6974f957aa76\" # The delta sharing endpoint you received from DSB"
   ]
  },
  {
   "cell_type": "code",
   "execution_count": null,
   "id": "3974149b",
   "metadata": {},
   "outputs": [],
   "source": [
    "# --------------------------------------------------\n",
    "# Jupyter Notebook setup\n",
    "# The code here is only for automatically reloading modules if they change.\n",
    "# --------------------------------------------------\n",
    "%load_ext autoreload\n",
    "%autoreload 2"
   ]
  },
  {
   "cell_type": "markdown",
   "id": "3fd82c48",
   "metadata": {},
   "source": [
    "## Acquire an access token from Skyporten / Maskinporten\n",
    "In the code below we will request an access token from Skyporten / Maskinporten.\n",
    "\n",
    "The access token is stored in the `access_token` variable and is used in the subsequent code blocks in this file.\n",
    "\n",
    "The access token is also written to the output of the code cell so you can see it in both JSON and bearer/base64 format."
   ]
  },
  {
   "cell_type": "code",
   "execution_count": null,
   "id": "adfc797c",
   "metadata": {},
   "outputs": [],
   "source": [
    "# Import the a helper function in the lib folder to get an access token from Maskinporten\n",
    "from lib.maskinporten import get_maskinporten_access_token\n",
    "\n",
    "# Read the private key from a file\n",
    "private_key = open(maskinporten_private_key_file_path, \"rb\").read()\n",
    "\n",
    "# Request an access token from Maskinporten\n",
    "access_token = get_maskinporten_access_token(\n",
    "    key_id=maskinporten_client_key_id,\n",
    "    client_id=maskinporten_client_id,\n",
    "    audience=maskinporten_audience,\n",
    "    scope=maskinporten_scope,\n",
    "    resource=maskinporten_resource,\n",
    "    private_key=private_key,\n",
    ")\n",
    "\n",
    "# Decode and print the access token\n",
    "import jwt\n",
    "decoded = jwt.decode(\n",
    "    access_token,\n",
    "    options={\"verify_signature\": False},\n",
    "    algorithms=[\"RS256\"],\n",
    ")\n",
    "\n",
    "print(\"Decoded access token:\")\n",
    "import json\n",
    "print(json.dumps(decoded, indent=2))\n",
    "print()\n",
    "\n",
    "print(\"Access token in base64 format:\")\n",
    "print(f\"{access_token}\")\n",
    "print()\n",
    "\n",
    "print(f\"The sub-value '{decoded['sub']}' is what you need to send to DSB\")"
   ]
  },
  {
   "cell_type": "markdown",
   "id": "7a269838",
   "metadata": {},
   "source": [
    "## Delta sharing\n",
    "The code below will use the `access_token` variable from the previous code block to create a delta sharing profile JSON file.\n",
    "\n",
    "This profile.json-file will be used by the Delta Sharing client to access the data on the Delta Sharing server/endpoint."
   ]
  },
  {
   "cell_type": "code",
   "execution_count": null,
   "id": "68ecd930",
   "metadata": {},
   "outputs": [],
   "source": [
    "# Import helper functions for Delta Sharing\n",
    "from lib.deltasharing import create_sharing_profile, get_table_urls\n",
    "\n",
    "# Create the Delta Sharing profile JSON file\n",
    "profile = create_sharing_profile(\n",
    "    profile_name=\"dsb_maskinporten_profile\",\n",
    "    bearer_token=access_token,\n",
    "    endpoint=delta_sharing_endpoint\n",
    ")"
   ]
  },
  {
   "cell_type": "code",
   "execution_count": null,
   "id": "27e1db8c",
   "metadata": {},
   "outputs": [],
   "source": [
    "# --------------------------------------------------\n",
    "# Testing access\n",
    "# Using the created profile we will connect to the Delta Sharing server and list all available tables\n",
    "# --------------------------------------------------\n",
    "from delta_sharing import SharingClient\n",
    "client = SharingClient(profile)\n",
    "\n",
    "# List all tables using the Delta Sharing client\n",
    "print(client.list_all_tables())\n",
    "print()\n",
    "\n",
    "# List all tables using the get_table_urls helper function\n",
    "table_urls = sorted(get_table_urls(profile, client))\n",
    "print(\"\\n\".join(table_urls))\n"
   ]
  },
  {
   "cell_type": "markdown",
   "id": "f84e93ce",
   "metadata": {},
   "source": [
    "## Consuming data\n",
    "The `delta_sharing` package provides two ways to consume/process data via Delta Sharing.\n",
    "\n",
    "### Pandas\n",
    "[Pandas](https://pandas.pydata.org/) is a powerful data analysis and manipulation library for Python.\n",
    "<br>It works great for moderate amounts of data that fits in memory of a single machine that don't require parallel processing.\n",
    "<br>The examples below will show some examples of how to consume data using Pandas.\n",
    "\n",
    "### Spark\n",
    "[Apache Spark](https://spark.apache.org/) is a engine for large-scale data processing.\n",
    "<br>It requires a Spark cluster of one or more machines to run.\n",
    "<br>Using Spark is a good approach when you have large datasets that does not fit in memory of a single machine or when you want to process data in parallel.\n",
    "<br>Due to the requirements of setting up a cluster, we will not provide examples for Spark."
   ]
  },
  {
   "cell_type": "markdown",
   "id": "c5878ec9",
   "metadata": {},
   "source": [
    "## Consuming data with Pandas"
   ]
  },
  {
   "cell_type": "code",
   "execution_count": null,
   "id": "34b4f21f",
   "metadata": {},
   "outputs": [],
   "source": [
    "# Import dependencies\n",
    "from delta_sharing import load_as_pandas\n",
    "\n",
    "# Load a specific table as a Pandas DataFrame\n",
    "pandas_df = load_as_pandas(url=table_urls[0])\n",
    "\n",
    "# Show first 5 rows\n",
    "print(pandas_df.head(n = 5))\n",
    "\n",
    "# Show summary statistics of the DataFrame\n",
    "pandas_df.describe()"
   ]
  },
  {
   "cell_type": "code",
   "execution_count": null,
   "id": "7648fb13",
   "metadata": {},
   "outputs": [],
   "source": [
    "# --------------------------------------------------\n",
    "# Download all tables from Delta Sharing into local data folder\n",
    "# This uses a helper function that takes inn all the table URLs and downloads them in parquet format into a specified folder\n",
    "#\n",
    "# The local parquet files can then be loaded into other tools like Power BI, Pandas or Spark for further processing and analysis.\n",
    "# --------------------------------------------------\n",
    "from lib.deltasharing import pandas_dump_tables\n",
    "\n",
    "pandas_dump_tables(\n",
    "    table_urls=table_urls,\n",
    "    data_folder=\"./data\"\n",
    ")"
   ]
  }
 ],
 "metadata": {
  "kernelspec": {
   "display_name": "databricks",
   "language": "python",
   "name": "python3"
  },
  "language_info": {
   "codemirror_mode": {
    "name": "ipython",
    "version": 3
   },
   "file_extension": ".py",
   "mimetype": "text/x-python",
   "name": "python",
   "nbconvert_exporter": "python",
   "pygments_lexer": "ipython3",
   "version": "3.12.9"
  }
 },
 "nbformat": 4,
 "nbformat_minor": 5
}
